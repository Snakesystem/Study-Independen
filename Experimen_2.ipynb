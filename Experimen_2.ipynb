{
  "nbformat": 4,
  "nbformat_minor": 0,
  "metadata": {
    "colab": {
      "name": "Experimen 2",
      "provenance": [],
      "authorship_tag": "ABX9TyNwx9t+jVEvKcVWQ3TAOfhG",
      "include_colab_link": true
    },
    "kernelspec": {
      "name": "python3",
      "display_name": "Python 3"
    },
    "language_info": {
      "name": "python"
    },
    "accelerator": "GPU"
  },
  "cells": [
    {
      "cell_type": "markdown",
      "metadata": {
        "id": "view-in-github",
        "colab_type": "text"
      },
      "source": [
        "<a href=\"https://colab.research.google.com/github/Snakesystem/Google-Colab/blob/main/Experimen_2.ipynb\" target=\"_parent\"><img src=\"https://colab.research.google.com/assets/colab-badge.svg\" alt=\"Open In Colab\"/></a>"
      ]
    },
    {
      "cell_type": "markdown",
      "metadata": {
        "id": "GW7iBudJcwx_"
      },
      "source": [
        "1. Penulisan satu statement di dalam Python tidak diakhiri dengan tanda titik-koma"
      ]
    },
    {
      "cell_type": "code",
      "metadata": {
        "colab": {
          "base_uri": "https://localhost:8080/"
        },
        "id": "mxMSvxv7dTsj",
        "outputId": "a9e37798-5c08-481c-c003-0e864f690cc2"
      },
      "source": [
        "print(\"Halo Dunia\")\n",
        "print(\"Panjang = 100\")\n",
        "print(\"lebar = 23\")\n",
        "print(\"Saya suka belajar python\")"
      ],
      "execution_count": null,
      "outputs": [
        {
          "output_type": "stream",
          "name": "stdout",
          "text": [
            "Halo Dunia\n",
            "Panjang = 100\n",
            "lebar = 23\n",
            "Saya suka belajar python\n"
          ]
        }
      ]
    },
    {
      "cell_type": "markdown",
      "metadata": {
        "id": "Kjuj8m7Vdffx"
      },
      "source": [
        "2. Statement pada Pyhton dinyatakan dalam satu baris. Jadi akhir dari sebuah pernyataan adalah baris baru (new line)"
      ]
    },
    {
      "cell_type": "code",
      "metadata": {
        "colab": {
          "base_uri": "https://localhost:8080/"
        },
        "id": "LMuMCT28dxe1",
        "outputId": "ae7a73f7-cad7-4fc7-c31e-4a0acea5939f"
      },
      "source": [
        "print(\"luas = panjang * lebar\")"
      ],
      "execution_count": null,
      "outputs": [
        {
          "output_type": "stream",
          "name": "stdout",
          "text": [
            "luas = panjang * lebar\n"
          ]
        }
      ]
    },
    {
      "cell_type": "markdown",
      "metadata": {
        "id": "-QeBy3wLeVhs"
      },
      "source": [
        "3. Jika ada pernyataan yang panjangnya terdiri lebih dari 1 baris, maka dapat dilakukan dengan menggunakan tanda backslash ( \\ ) ."
      ]
    },
    {
      "cell_type": "code",
      "metadata": {
        "colab": {
          "base_uri": "https://localhost:8080/"
        },
        "id": "QiUHazQeeYPD",
        "outputId": "d0cdf604-89ba-47cb-9589-83b17155020c"
      },
      "source": [
        "print(\"volume = panjang * lebar *\\ tinggi\")"
      ],
      "execution_count": null,
      "outputs": [
        {
          "output_type": "stream",
          "name": "stdout",
          "text": [
            "volume = panjang * lebar *\\ tinggi\n"
          ]
        }
      ]
    },
    {
      "cell_type": "markdown",
      "metadata": {
        "id": "brgS0e-yezxy"
      },
      "source": [
        "4. Statement yang ada di dalam atau diapit oleh tanda kurung seperti \"[],{},()\" tidak memerlukan tanda \"\""
      ]
    },
    {
      "cell_type": "code",
      "metadata": {
        "colab": {
          "base_uri": "https://localhost:8080/"
        },
        "id": "q8eQQkvTe85_",
        "outputId": "57ead7f8-5c07-4ab0-c2fc-57bb85cb9434"
      },
      "source": [
        "nama_hari = ['Senin','Selasa','Rabu','Kamis','Jumat','Sabtu']\n",
        "print(nama_hari)"
      ],
      "execution_count": null,
      "outputs": [
        {
          "output_type": "stream",
          "name": "stdout",
          "text": [
            "['Senin', 'Selasa', 'Rabu', 'Kamis', 'Jumat', 'Sabtu']\n"
          ]
        }
      ]
    },
    {
      "cell_type": "markdown",
      "metadata": {
        "id": "zuAK1fiOgT33"
      },
      "source": [
        "5. Python menggunakan tanda indentasi (spasi) sebagai penanda blok. Panjang spasi atau indentasi untuk setiap baris yang ada dalam satu blok kode harus sama. Bila spasi atau indentasi dalam satu grup kode tersebut tidak sama, python akan menamplikan sintaks error"
      ]
    },
    {
      "cell_type": "code",
      "metadata": {
        "colab": {
          "base_uri": "https://localhost:8080/"
        },
        "id": "16V_dry-ghnG",
        "outputId": "a67d8145-4c0a-4ae1-beec-3266b37c7d3d"
      },
      "source": [
        "usia = 7\n",
        "if usia >= 7:\n",
        "  print(\"diterima masuk SD\")\n",
        "  print(\"dinyatakan lulus\")\n",
        "else:\n",
        "  print(\"tidak diterima masuk SD\")\n",
        "  print(\"dinyatakan gagal\")"
      ],
      "execution_count": null,
      "outputs": [
        {
          "output_type": "stream",
          "name": "stdout",
          "text": [
            "diterima masuk SD\n",
            "dinyatakan lulus\n"
          ]
        }
      ]
    },
    {
      "cell_type": "markdown",
      "metadata": {
        "id": "CPef4hLuiG1C"
      },
      "source": [
        "6. Sebaga penanda string, Python menggunakan tanda kutip, baik tunggal ('), maupun ganda(\"). Tanda kutip tiga(\"\"\") digunakan untuk string multibaris"
      ]
    },
    {
      "cell_type": "code",
      "metadata": {
        "colab": {
          "base_uri": "https://localhost:8080/"
        },
        "id": "NcFAgke3iQWE",
        "outputId": "ce11a1ee-d582-4827-adcb-b907e9df9b37"
      },
      "source": [
        "namadepan = ('Alvin')\n",
        "namalengkap = (\"Alvin Agusta Wahyono\")\n",
        "alinea = \"\"\"Berikut ini adalah alinea yang terdiri dari beberapa baris.\"\"\"\n",
        "print(namadepan)\n",
        "print(namalengkap)\n",
        "print(alinea)"
      ],
      "execution_count": null,
      "outputs": [
        {
          "output_type": "stream",
          "name": "stdout",
          "text": [
            "Alvin\n",
            "Alvin Agusta Wahyono\n",
            "Berikut ini adalah alinea yang terdiri dari beberapa baris.\n"
          ]
        }
      ]
    },
    {
      "cell_type": "markdown",
      "metadata": {
        "id": "qSmpTuL8jjFF"
      },
      "source": [
        "7. Bahasa Python bersifat case sensitif, yang berarti membedakan huruf besar dan huruf kecil (memiliki nilai yang berbeda).\n"
      ]
    },
    {
      "cell_type": "code",
      "metadata": {
        "colab": {
          "base_uri": "https://localhost:8080/"
        },
        "id": "joswWoRSjrxx",
        "outputId": "8eb54b87-767d-4c90-f715-6f7befce372f"
      },
      "source": [
        "# contoh statement benar\n",
        "luas = 15*3\n",
        "print(luas)\n"
      ],
      "execution_count": null,
      "outputs": [
        {
          "output_type": "stream",
          "name": "stdout",
          "text": [
            "45\n"
          ]
        }
      ]
    },
    {
      "cell_type": "markdown",
      "metadata": {
        "id": "CdNwYEgPnG28"
      },
      "source": [
        "8. Untuk komentar di awali dengan tanda \"#\" yang artinya tidak diproses sebagai statement code."
      ]
    },
    {
      "cell_type": "code",
      "metadata": {
        "colab": {
          "base_uri": "https://localhost:8080/"
        },
        "id": "3Jdh64ghnNKP",
        "outputId": "1ad83440-f05f-4448-c591-3f4bf585743f"
      },
      "source": [
        "# contoh\n",
        "# perintah untuk menghitung luas\n",
        "panjang = 15\n",
        "lebar = 3\n",
        "luas = (panjang*lebar)\n",
        "print(luas)"
      ],
      "execution_count": null,
      "outputs": [
        {
          "output_type": "stream",
          "name": "stdout",
          "text": [
            "45\n"
          ]
        }
      ]
    },
    {
      "cell_type": "code",
      "metadata": {
        "id": "1TJhvx7ZoUa-",
        "colab": {
          "base_uri": "https://localhost:8080/"
        },
        "outputId": "ddd802c0-2579-448d-a4a6-7f12b35ecc8b"
      },
      "source": [
        "# kode awal\n",
        "total_harga = 150000\n",
        "potongan_harga = 0.3\n",
        "pajak = 0.1 # pajak dalam persen ~ 10%\n",
        "harga_bayar = 1 - 0.3 # baris pertama\n",
        "harga_bayar *= total_harga # baris kedua\n",
        "pajak_bayar = pajak * harga_bayar # baris ketiga\n",
        "harga_bayar += pajak_bayar # baris ke-4\n",
        "print(\"kode awal - harga_bayar=\", harga_bayar)\n",
        "# penyederhanaan baris kode dengan menerapkan prioritas operator\n",
        "total_harga = 150000\n",
        "potongan_harga = 0.3\n",
        "pajak = 0.1 # pajak dalam persen ~ 10%\n",
        "harga_bayar = (1 - 0.3) * total_harga #baris pertama\n",
        "harga_bayar += harga_bayar * pajak # baris kedua\n",
        "print(\"penyederhanaan code - harga_bayar =\", harga_bayar)"
      ],
      "execution_count": null,
      "outputs": [
        {
          "output_type": "stream",
          "name": "stdout",
          "text": [
            "kode awal - harga_bayar= 115500.0\n",
            "penyederhanaan code - harga_bayar = 115500.0\n"
          ]
        }
      ]
    },
    {
      "cell_type": "code",
      "metadata": {
        "colab": {
          "base_uri": "https://localhost:8080/"
        },
        "id": "2cx1M4IBsl8S",
        "outputId": "67ca6776-3547-45c5-bca0-0cff150c77cf"
      },
      "source": [
        "sepatu = { \"nama\" : \"Sepatu_Niko\", \"harga\" : 150000, \"diskon\" : 30000 }\n",
        "baju = { \"nama\" : \"Baju Unikloh\", \"harga\" : 80000, \"diskon\" : 8000 }\n",
        "celana = { \"nama\" : \"Celana Lepis\", \"harga\" : 200000, \"diskon\" : 60000 }\n",
        "harga_sepatu = sepatu[\"harga\"] - sepatu[\"diskon\"]\n",
        "harga_baju = baju[\"harga\"] - baju[\"diskon\"]\n",
        "harga_celana = celana[\"harga\"] - celana[\"diskon\"]\n",
        "total_harga = (harga_sepatu + harga_baju + harga_celana) * 1.1\n",
        "print(total_harga)"
      ],
      "execution_count": null,
      "outputs": [
        {
          "output_type": "stream",
          "name": "stdout",
          "text": [
            "365200.00000000006\n"
          ]
        }
      ]
    },
    {
      "cell_type": "code",
      "metadata": {
        "colab": {
          "base_uri": "https://localhost:8080/"
        },
        "id": "lvBplJ0uOVSL",
        "outputId": "82b8ef46-854d-4987-d984-cc5aca4eb986"
      },
      "source": [
        "tagihan_ke = 'Mr. Yoyo'\n",
        "warehousing = {'harga_harian': 1000000, 'total_hari' : 15}\n",
        "cleansing = {'harga_harian' : 1500000, 'total_hari' : 10}\n",
        "integration = {'harga_harian' : 2000000, 'total_hari' : 15}\n",
        "transform = {'harga_harian' : 2500000, 'total_hari' : 10}\n",
        "sub_warehouse = warehousing['harga_harian'] * ['total_hari']\n",
        "sub_cleansing = cleansing['harga_harian'] * ['total_hari']\n",
        "sub_integration = integration['harga_harian'] * ['total_hari']\n",
        "sub_transform = transform['harga_harian'] * ['total_hari']\n",
        "total_harga = sub_warehouse + sub_cleansing + sub_integration + sub_transform\n",
        "print(\"tagihan kepada:\")\n",
        "print(tagihan_ke)\n",
        "print(\"Selamat pagi, anda harus membayar tagihan ke:\")\n",
        "print(total_harga)"
      ],
      "execution_count": null,
      "outputs": [
        {
          "output_type": "stream",
          "name": "stdout",
          "text": [
            "tagihan kepada:\n",
            "Mr. Yoyo\n",
            "Selamat pagi, anda harus membayar tagihan ke:\n"
          ]
        },
        {
          "output_type": "stream",
          "name": "stderr",
          "text": [
            "IOPub data rate exceeded.\n",
            "The notebook server will temporarily stop sending output\n",
            "to the client in order to avoid crashing it.\n",
            "To change this limit, set the config variable\n",
            "`--NotebookApp.iopub_data_rate_limit`.\n",
            "\n",
            "Current values:\n",
            "NotebookApp.iopub_data_rate_limit=1000000.0 (bytes/sec)\n",
            "NotebookApp.rate_limit_window=3.0 (secs)\n",
            "\n"
          ]
        }
      ]
    },
    {
      "cell_type": "markdown",
      "metadata": {
        "id": "zzFME0xYXhPP"
      },
      "source": [
        "**Python while loops – Part1**"
      ]
    },
    {
      "cell_type": "code",
      "metadata": {
        "colab": {
          "base_uri": "https://localhost:8080/"
        },
        "id": "1FuTfjCaAIW5",
        "outputId": "ad414c33-527f-40d1-ab46-a555ff6242c5"
      },
      "source": [
        "# Tagihan\n",
        "tagihan = [50000, 75000, 125000, 300000, 200000]\n",
        "# Tanpa menggunakan while loop\n",
        "total_tagihan = tagihan[0] + tagihan[1] + tagihan[2] + tagihan[3] + tagihan[4]\n",
        "print(total_tagihan)\n",
        "# Dengan menggunakan while loop\n",
        "i = 0 # sebuah variabel untuk mengakses setiap elemen tagihan satu per satu\n",
        "jumlah_tagihan = len(tagihan) # panjang (jumlah elemen dalam) list tagihan\n",
        "total_tagihan = 0 # mula-mula, set total_tagihan ke 0\n",
        "while i < jumlah_tagihan: # selama nilai i kurang dari jumlah_tagihan\n",
        "    total_tagihan += tagihan[i] # tambahkan tagihan[i] ke total_tagihan\n",
        "    i += 1 # tambahkan nilai i dengan 1 untuk memproses tagihan selanjutnya.\n",
        "print(total_tagihan)"
      ],
      "execution_count": null,
      "outputs": [
        {
          "output_type": "stream",
          "name": "stdout",
          "text": [
            "750000\n",
            "750000\n"
          ]
        }
      ]
    },
    {
      "cell_type": "markdown",
      "metadata": {
        "id": "umfKphB9XFSS"
      },
      "source": [
        "**Python while loops – Part2**"
      ]
    },
    {
      "cell_type": "code",
      "metadata": {
        "colab": {
          "base_uri": "https://localhost:8080/"
        },
        "id": "j8ZvZXCLdN7T",
        "outputId": "da747a7f-3910-4ecc-af6e-ca49aaf90f35"
      },
      "source": [
        "tagihan = [50000, 75000, -150000, 125000, 300000, -50000, 200000]\n",
        "i = 0\n",
        "jumlah_tagihan = len(tagihan)\n",
        "total_tagihan = 0\n",
        "while i < total_tagihan:\n",
        "  # jika terdapat tagihan ke-i yang bernilai minus (di bawah nol),\n",
        "  # pengulangan akan dihentikan\n",
        "  if tagihan[i] < 0:\n",
        "    total_tagihan = -1\n",
        "    print(\"terdapat nilai minus dalam tagihan, perhitungan dihentikan!\")\n",
        "    break\n",
        "  total_tagihan = tagihan[i]\n",
        "  i = 1\n",
        "print(total_tagihan)"
      ],
      "execution_count": null,
      "outputs": [
        {
          "output_type": "stream",
          "name": "stdout",
          "text": [
            "0\n"
          ]
        }
      ]
    },
    {
      "cell_type": "markdown",
      "metadata": {
        "id": "N3--WUToXleX"
      },
      "source": [
        "**Python while loops – Part3**"
      ]
    },
    {
      "cell_type": "code",
      "metadata": {
        "colab": {
          "base_uri": "https://localhost:8080/"
        },
        "id": "Q5seORVvMcoB",
        "outputId": "8191982f-d23c-44da-ccf1-bb98d28b9f08"
      },
      "source": [
        "tagihan = [50000, 75000, -150000, 125000, 300000, -50000, 200000]\n",
        "i = 0\n",
        "jumlah_tagihan = len(tagihan)\n",
        "total_tagihan = 0\n",
        "while i < total_tagihan:\n",
        "  # jika terdapat tagihan ke-i yang bernilai minus (di bawah nol),\n",
        "  # pengulangan akan dihentikan\n",
        "  if taguhan[X] < 0:\n",
        "    i += 1\n",
        "    continue\n",
        "    total_tagihan += tagihan[i]\n",
        "    i += 1\n",
        "print(total_tagihan)"
      ],
      "execution_count": null,
      "outputs": [
        {
          "output_type": "stream",
          "name": "stdout",
          "text": [
            "0\n"
          ]
        }
      ]
    },
    {
      "cell_type": "markdown",
      "metadata": {
        "id": "xuN7UCs0ZCAN"
      },
      "source": [
        "**Python for loops – Part1**"
      ]
    },
    {
      "cell_type": "code",
      "metadata": {
        "colab": {
          "base_uri": "https://localhost:8080/"
        },
        "id": "1FwK4oZmZPlV",
        "outputId": "ea1bce36-8d36-4b30-d7a0-5fb4ead9aff3"
      },
      "source": [
        "list_tagihan = [50000, 75000, -150000, 125000, 300000, -50000, 200000]\n",
        "total_tagihan = 0\n",
        "for tagihan in list_tagihan:\n",
        "  if tagihan < 0:\n",
        "    print(\"terdapat nilai minus dalam tagihan, perhitungan dihentikan!\")\n",
        "    break\n",
        "  total_tagihan += tagihan\n",
        "print(total_tagihan)"
      ],
      "execution_count": null,
      "outputs": [
        {
          "output_type": "stream",
          "name": "stdout",
          "text": [
            "terdapat nilai minus dalam tagihan, perhitungan dihentikan!\n",
            "125000\n"
          ]
        }
      ]
    },
    {
      "cell_type": "markdown",
      "metadata": {
        "id": "vZIkVaOPbLUu"
      },
      "source": [
        "**Ekspedisi Pamanku**"
      ]
    },
    {
      "cell_type": "code",
      "metadata": {
        "colab": {
          "base_uri": "https://localhost:8080/"
        },
        "id": "i_vJkDEBbWzc",
        "outputId": "94d61b36-c0df-4a3f-ee9d-1ae347d56010"
      },
      "source": [
        "# Data\n",
        "Uang_jajan = 1500000\n",
        "Jumlah_hari = 31\n",
        "list_plat_nomor = [8993, 2198, 2501, 2735, 3772, 4837, 9152]\n",
        "# pengecekan kendaraandengan plat nomor ganjil atau genap\n",
        "# Deklarasi kendaraan_genap dan kendaraan_ganjil = 0\n",
        "kendaraan_genap = 0\n",
        "kendaraan_ganjil = 0\n",
        "for plat_nomor in list_plat_nomor:\n",
        "  if plat_nomor % 2 == 0:\n",
        "    kendaraan_genap += 1\n",
        "  else:\n",
        "    kendaraan_ganjil += 1\n",
        "# Total pengeluaran untuk kendaraan dengan plat nomor ganjil\n",
        "# dan genap dalam 1 bulan\n",
        "i = 1\n",
        "total_pengeluaran = 0\n",
        "while i <= Jumlah_hari:\n",
        "  if i % 2 == 0:\n",
        "    total_pengeluaran += (kendaraan_genap * Uang_jajan)\n",
        "  else:\n",
        "    total_pengeluaran += (kendaraan_ganjil * Uang_jajan)\n",
        "  i += 1\n",
        "# cetak pengeluaran\n",
        "print(total_pengeluaran)"
      ],
      "execution_count": null,
      "outputs": [
        {
          "output_type": "stream",
          "name": "stdout",
          "text": [
            "163500000\n"
          ]
        }
      ]
    },
    {
      "cell_type": "code",
      "metadata": {
        "id": "ZIkxHXLOfQoH"
      },
      "source": [
        ""
      ],
      "execution_count": null,
      "outputs": []
    }
  ]
}